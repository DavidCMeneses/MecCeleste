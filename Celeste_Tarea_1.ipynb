{
  "nbformat": 4,
  "nbformat_minor": 0,
  "metadata": {
    "colab": {
      "name": "Celeste.ipynb",
      "provenance": [],
      "collapsed_sections": []
    },
    "kernelspec": {
      "name": "python3",
      "display_name": "Python 3"
    },
    "language_info": {
      "name": "python"
    }
  },
  "cells": [
    {
      "cell_type": "code",
      "source": [
        "import numpy as np\n",
        "\n",
        "#Convertir de horas,minutos,segundos a grados\n",
        "\n",
        "def convhmsag(a,b,c,sig=1):\n",
        "  return sig*(a*15 + b*(1/4) + c*(1/240))\n",
        "\n",
        "#Convertir de grados a horas,minutos,segundos\n",
        "def convgahms(g,sig=1):\n",
        "  if sig < 0:\n",
        "    g = -g\n",
        "  h = np.floor(g*(1/15))\n",
        "  m = np.floor((g*(1/15)-h)*60)\n",
        "  s = ((g*(1/15)-h)*60 - m)*60\n",
        "  return sig*h,m,s\n",
        "\n",
        "#Convertir de grados,minutos,segundos a grados\n",
        "def convgmsag(a,b,c,sig=1):\n",
        "  return sig*(a + b*(1/60) + c*(1/3600))\n",
        "\n",
        "#Convertir de grados a grados,minutos,segundos\n",
        "def convgagms(g,sig=1):\n",
        "  if sig < 0:\n",
        "    g = -g\n",
        "  h = np.floor(g)\n",
        "  m = np.floor((g-h)*60)\n",
        "  s = ((g-h)*60 - m)*60\n",
        "  return sig*h,m,s\n",
        "\n",
        "#Convertir de radianes a grados\n",
        "def radagrad(r):\n",
        "  return r*180/np.pi\n",
        "\n",
        "#Convertir de grados a radianes\n",
        "def gradarad(g):\n",
        "  return g*np.pi/180\n",
        "\n",
        "#Asegurarse de que tangente dé el valor correcto\n",
        "def arctansafe(alpha,a,b):\n",
        "  if a*b < 0 and b<0:\n",
        "    alpha = alpha + 180\n",
        "  elif a*b < 0 and b>0:\n",
        "    alpha = alpha + 360\n",
        "  elif a+b < 0:\n",
        "    alpha = alpha + 180\n",
        "  return alpha  \n",
        "\n",
        "#Verificar que el grado esté en el rango\n",
        "def normgrad(alpha):\n",
        "  if alpha > 360:\n",
        "    alpha = alpha - 360\n",
        "  return alpha"
      ],
      "metadata": {
        "id": "9agT2zLfaNrz"
      },
      "execution_count": 1,
      "outputs": []
    },
    {
      "cell_type": "code",
      "source": [
        "#De ecuatoriales (primadas) geocentricas (griegas) esfericas (alpha,delta,rho) a eclipticas (no primadas) geocentricas (griegas) rectangulares (xi,eta,zeta)\n",
        "e = 23.43927944\n",
        "\n",
        "alphah = 23\n",
        "alpham = 30\n",
        "alphas = 18.40\n",
        "\n",
        "\n",
        "deltag = 4\n",
        "deltam = 18\n",
        "deltas = 24.6\n",
        "deltasing = -1\n",
        "\n",
        "rho = 5.8919427\n",
        "\n",
        "#De esfericas a rectangulares\n",
        "\n",
        "xipri = rho * np.cos(gradarad(convhmsag(alphah,alpham,alphas))) * np.cos(gradarad(convgmsag(deltag,deltam,deltas,deltasing)))\n",
        "etapri = rho * np.sin(gradarad(convhmsag(alphah,alpham,alphas))) * np.cos(gradarad(convgmsag(deltag,deltam,deltas,deltasing)))\n",
        "zetapri = rho * np.sin(gradarad(convgmsag(deltag,deltam,deltas,deltasing)))\n",
        "\n",
        "print(xipri,etapri,zetapri)\n",
        "\n",
        "#De ecuatoriales a eclipticas\n",
        "\n",
        "xi = xipri\n",
        "eta = etapri * np.cos(gradarad(e)) + zetapri * np.sin(gradarad(e))\n",
        "zeta = -1 * etapri * np.sin(gradarad(e)) + zetapri * np.cos(gradarad(e)) \n",
        "\n",
        "print(xi,eta,zeta)"
      ],
      "metadata": {
        "colab": {
          "base_uri": "https://localhost:8080/"
        },
        "id": "-x8FYRAivULA",
        "outputId": "df925e56-0dae-4a79-b907-400b29b71427"
      },
      "execution_count": 2,
      "outputs": [
        {
          "output_type": "stream",
          "name": "stdout",
          "text": [
            "5.826061828332623 -0.7590860933208997 -0.44247107866575847\n",
            "5.826061828332623 -0.8724527402546638 -0.1040123480696093\n"
          ]
        }
      ]
    },
    {
      "cell_type": "code",
      "source": [
        "#De eclipticas (no primadas) heliocentricas (latinas) rectangulares (x,y,z) de la Tierra a ecuatoriales (primadas) geocentricas (griegas) esfericas (lambda,beta,r) del Sol\n",
        "\n",
        "x = -0.96237028\n",
        "y = -0.27368904\n",
        "z = 0.00001802\n",
        "\n",
        "#De eclipticas a ecuatoriales\n",
        "\n",
        "xpri = x\n",
        "ypri = y * np.cos(gradarad(e)) - z * np.sin(gradarad(e))\n",
        "zpri = y * np.sin(gradarad(e)) + z * np.cos(gradarad(e))\n",
        "\n",
        "print(xpri, ypri, zpri)\n",
        "\n",
        "#De rectangulares a esfericas\n",
        "\n",
        "lambd = np.arctan(ypri/xpri)\n",
        "r = np.sqrt(xpri**2 + ypri**2 + zpri**2)\n",
        "beta = np.arcsin(zpri/r)\n",
        "\n",
        "lambd = arctansafe(radagrad(lambd),ypri,xpri)\n",
        "\n",
        "print(lambd, r, radagrad(beta))\n",
        "\n",
        "#De geocentricas a heliocentricas\n",
        "\n",
        "alpha = lambd + 180\n",
        "rho = r \n",
        "delta = -1 * radagrad(beta)\n",
        "\n",
        "print(normgrad(alpha), rho, delta)"
      ],
      "metadata": {
        "colab": {
          "base_uri": "https://localhost:8080/"
        },
        "id": "ENQLMKn9vZIY",
        "outputId": "fe7c12ce-0ec1-480f-9106-f6cdbb835799"
      },
      "execution_count": 3,
      "outputs": [
        {
          "output_type": "stream",
          "name": "stdout",
          "text": [
            "-0.96237028 -0.25111197490209564 -0.10885066376284194\n",
            "194.62415486203716 1.000530982412899 -6.245736034843553\n",
            "14.62415486203713 1.000530982412899 6.245736034843553\n"
          ]
        }
      ]
    }
  ]
}
