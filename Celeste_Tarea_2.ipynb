{
  "nbformat": 4,
  "nbformat_minor": 0,
  "metadata": {
    "colab": {
      "name": "Celeste_Tarea_2.ipynb",
      "provenance": [],
      "collapsed_sections": []
    },
    "kernelspec": {
      "name": "python3",
      "display_name": "Python 3"
    },
    "language_info": {
      "name": "python"
    }
  },
  "cells": [
    {
      "cell_type": "markdown",
      "source": [
        "David Esteban Casallas Meneses"
      ],
      "metadata": {
        "id": "jJrrQ-IBK3za"
      }
    },
    {
      "cell_type": "code",
      "source": [
        "import numpy as np\n",
        "\n",
        "#Nota: Numpy ya incluye una forma para calcular la magnitud np.linalg.norm()\n",
        "#de todas formas utilizaré mi implementación\n",
        "\n",
        "def magnitud_v(x,y,z):\n",
        "  return np.sqrt(x**2 + y**2 + z**2)\n"
      ],
      "metadata": {
        "id": "fnU2pyPZqdj2"
      },
      "execution_count": 108,
      "outputs": []
    },
    {
      "cell_type": "code",
      "source": [
        "#Métodos de tareas anteriores\n",
        "\n",
        "#Convertir de horas,minutos,segundos a grados\n",
        "\n",
        "def convhmsag(a,b,c,sig=1):\n",
        "  return sig*(a*15 + b*(1/4) + c*(1/240))\n",
        "\n",
        "#Convertir de grados a horas,minutos,segundos\n",
        "def convgahms(g,sig=1):\n",
        "  if sig < 0:\n",
        "    g = -g\n",
        "  h = np.floor(g*(1/15))\n",
        "  m = np.floor((g*(1/15)-h)*60)\n",
        "  s = ((g*(1/15)-h)*60 - m)*60\n",
        "  return sig*h,m,s\n",
        "\n",
        "#Convertir de grados,minutos,segundos a grados\n",
        "def convgmsag(a,b,c,sig=1):\n",
        "  return sig*(a + b*(1/60) + c*(1/3600))\n",
        "\n",
        "#Convertir de grados a grados,minutos,segundos\n",
        "def convgagms(g,sig=1):\n",
        "  if sig < 0:\n",
        "    g = -g\n",
        "  h = np.floor(g)\n",
        "  m = np.floor((g-h)*60)\n",
        "  s = ((g-h)*60 - m)*60\n",
        "  return sig*h,m,s\n",
        "\n",
        "#Convertir de radianes a grados\n",
        "def radagrad(r):\n",
        "  return r*180/np.pi\n",
        "\n",
        "#Convertir de grados a radianes\n",
        "def gradarad(g):\n",
        "  return g*np.pi/180\n",
        "\n",
        "#Asegurarse de que tangente dé el valor correcto\n",
        "def arctansafe(alpha,a,b):\n",
        "  if a*b < 0 and b<0:\n",
        "    alpha = alpha + 180\n",
        "  elif a*b < 0 and b>0:\n",
        "    alpha = alpha + 360\n",
        "  elif a+b < 0:\n",
        "    alpha = alpha + 180\n",
        "  return alpha  \n",
        "\n",
        "#Verificar que el grado esté en el rango\n",
        "def normgrad(alpha):\n",
        "  if alpha > 360:\n",
        "    alpha = alpha - 360\n",
        "  return alpha"
      ],
      "metadata": {
        "id": "fMjotDQU0fWQ"
      },
      "execution_count": 109,
      "outputs": []
    },
    {
      "cell_type": "code",
      "execution_count": 110,
      "metadata": {
        "id": "DvJEEjorpACS"
      },
      "outputs": [],
      "source": [
        "#Componentes rectangulares eclipticas heliocentricas de los vectores posición\n",
        "#y velocidad del planeta Mercurio 21 de Abril de 2022 a las 0h 0m 0s TUC\n",
        "\n",
        "x = -0.19019244\n",
        "y = -0.26228619\n",
        "z = 0.03887948\n",
        "\n",
        "xdot = -0.02845564\n",
        "ydot = 0.01541748\n",
        "zdot = 0.00135024"
      ]
    },
    {
      "cell_type": "code",
      "source": [
        "#a)\n",
        "#Calcular la magnitud de los vectores\n",
        "r = magnitud_v(x,y,z)\n",
        "v = magnitud_v(xdot,ydot,zdot)\n",
        "print(\"Magnitud del vector posición: \", r, \"u.a.\")\n",
        "print(\"Magnitud del vector velocidad: \", v, \"u.a.d^-1\")"
      ],
      "metadata": {
        "colab": {
          "base_uri": "https://localhost:8080/"
        },
        "id": "CktyP0DDqdos",
        "outputId": "6cf73819-1351-4b1b-bc42-8d6448fa874f"
      },
      "execution_count": 111,
      "outputs": [
        {
          "output_type": "stream",
          "name": "stdout",
          "text": [
            "Magnitud del vector posición:  0.32631093095840363 u.a.\n",
            "Magnitud del vector velocidad:  0.032392055899828284 u.a.d^-1\n"
          ]
        }
      ]
    },
    {
      "cell_type": "code",
      "source": [
        "#b)\n",
        "#El valor de las componentes h_1, h_2, h_3\n",
        "\n",
        "#Numpy trae el producto cruz entre vectores incluido de todas formas, calcularé h \n",
        "#utilizando las formulas del libro\n",
        "\n",
        "numpy_h = np.cross([x,y,z],[xdot,ydot,zdot]) #Numpy\n",
        "\n",
        "h_1 = y*zdot - z*ydot\n",
        "h_2 = z*xdot - x*zdot\n",
        "h_3 = x*ydot - y*xdot\n",
        "\n",
        "print(\"Valor de h_1:\", h_1, \"u.a.^2 d^-1\")\n",
        "print(\"Valor de h_2:\", h_2, \"u.a.^2 d^-1\")\n",
        "print(\"Valor de h_3:\", h_3, \"u.a.^2 d^-1\")\n",
        "\n",
        "vh = [h_1,h_2,h_3]\n",
        "\n",
        "print(\"Valor de h:\", vh)\n",
        "\n",
        "#Nota: para comprobar mis calculos podemos utilizar el hecho de que\n",
        "#el producto cruz de un vector con sí mismo es 0\n",
        "\n",
        "print(np.cross(vh,numpy_h))\n"
      ],
      "metadata": {
        "colab": {
          "base_uri": "https://localhost:8080/"
        },
        "id": "IpDYg5UHsAzY",
        "outputId": "0ff936e2-c6c5-4e70-eb46-e5cc676f5709"
      },
      "execution_count": 112,
      "outputs": [
        {
          "output_type": "stream",
          "name": "stdout",
          "text": [
            "Valor de h_1: -0.000953572910496 u.a.^2 d^-1\n",
            "Valor de h_2: -0.0008495350460816001 u.a.^2 d^-1\n",
            "Valor de h_3: -0.0103958095394628 u.a.^2 d^-1\n",
            "Valor de h: [-0.000953572910496, -0.0008495350460816001, -0.0103958095394628]\n",
            "[0. 0. 0.]\n"
          ]
        }
      ]
    },
    {
      "cell_type": "code",
      "source": [
        "#c)\n",
        "#La magnitud del vector h\n",
        "h = magnitud_v(h_1,h_2,h_3)\n",
        "print(\"Magnitud del vector h: \", h, \"u.a.^2 d^-1\" )"
      ],
      "metadata": {
        "colab": {
          "base_uri": "https://localhost:8080/"
        },
        "id": "-yM1dJAJxT9C",
        "outputId": "6636acd2-ac32-4b3b-8083-69dc8d3e6bca"
      },
      "execution_count": 113,
      "outputs": [
        {
          "output_type": "stream",
          "name": "stdout",
          "text": [
            "Magnitud del vector h:  0.01047396138387661 u.a.^2 d^-1\n"
          ]
        }
      ]
    },
    {
      "cell_type": "code",
      "source": [
        "#d)\n",
        "#Determinar si el planeta se está acercando o alejando del Sol\n",
        "\n",
        "#Necesitamos saber si rdot > 0 o rdot < 0, para reconocer si se está acercando o alejando,\n",
        "#vamos a utilizar el producto punto de numpy np.dot()\n",
        "\n",
        "rdot = np.dot([x,y,z],[xdot,ydot,zdot])/r #Esto es lo mismo que (x*xdot+y*ydot+z*zdot)/r = rdot\n",
        "\n",
        "#Verificamos qué caso es e imprimimos la conclusión correcta\n",
        "\n",
        "print(\"En ese instante\")\n",
        "if rdot < 0:\n",
        "  print(\"El cuerpo se está acercando al Sol\")\n",
        "elif rdot > 0:\n",
        "  print(\"El cuerpo se está alejando del Sol\")\n",
        "else:\n",
        "  print(\"Error rdot = 0\")"
      ],
      "metadata": {
        "colab": {
          "base_uri": "https://localhost:8080/"
        },
        "id": "_82PW_0jyTos",
        "outputId": "b42f28bb-a399-4683-8df6-8cfe2bbe5585"
      },
      "execution_count": 114,
      "outputs": [
        {
          "output_type": "stream",
          "name": "stdout",
          "text": [
            "En ese instante\n",
            "El cuerpo se está alejando del Sol\n"
          ]
        }
      ]
    },
    {
      "cell_type": "code",
      "source": [
        "#e)\n",
        "#Determinar el valor de thetadot\n",
        "\n",
        "thetadot = h/r**2\n",
        "thetadot2 = normgrad(radagrad(thetadot))\n",
        "thetadot2 = convgagms(thetadot2)\n",
        "\n",
        "print(\"El valor de thetadot es:\", thetadot2[0], \"grados\", thetadot2[1], \"minutos\",thetadot2[2], \"segundos\")"
      ],
      "metadata": {
        "colab": {
          "base_uri": "https://localhost:8080/"
        },
        "id": "Xltzf8iQ7fe9",
        "outputId": "4eb752d6-5220-44c1-a276-092ce4b0ccbf"
      },
      "execution_count": 115,
      "outputs": [
        {
          "output_type": "stream",
          "name": "stdout",
          "text": [
            "El valor de thetadot es: 5.0 grados 38.0 minutos 9.57065043918334 segundos\n"
          ]
        }
      ]
    },
    {
      "cell_type": "code",
      "source": [
        "#f)\n",
        "#Mostrar numericamente que la magnitud de velocidad en ese instante\n",
        "#también se puede obtener a través de np.sqrt(rdot**2 + (r*thetadot)**2)\n",
        "\n",
        "v_test = np.sqrt(rdot**2 + (r*thetadot)**2)\n",
        "\n",
        "#Para comrpobar que efectivamente podemos calcular v de esta forma\n",
        "#podemos utilizar \"==\", y de igual forma imprimir ambos números\n",
        "\n",
        "print(\"V_test:\", v_test, \"u.a.d^-1\")\n",
        "print(\"V:\",v, \"u.a.d^-1\")\n",
        "\n",
        "if v_test == v:\n",
        "  print(\"Efectivamente podemos calcular la magnitud de velocidad de esta forma\")\n",
        "else:\n",
        "  print(\"Error v_test != v\")"
      ],
      "metadata": {
        "colab": {
          "base_uri": "https://localhost:8080/"
        },
        "id": "nX87bEa392qp",
        "outputId": "e6f6d149-fd3b-4651-e8b7-2b973c572680"
      },
      "execution_count": 116,
      "outputs": [
        {
          "output_type": "stream",
          "name": "stdout",
          "text": [
            "V_test: 0.032392055899828284 u.a.d^-1\n",
            "V: 0.032392055899828284 u.a.d^-1\n",
            "Efectivamente podemos calcular la magnitud de velocidad de esta forma\n"
          ]
        }
      ]
    },
    {
      "cell_type": "code",
      "source": [
        "#g)\n",
        "#Determinar el valor del angulo theta existente entre el vector posición\n",
        "#y el vector velocidad\n",
        "\n",
        "theta_1 = np.arcsin(h/(r*v))\n",
        "theta_1 = normgrad(radagrad(theta_1))\n",
        "\n",
        "#Ahora debemos decidir si tomar theta o 180-theta, pues ambas opciones satisfacen\n",
        "#la anterior ecuación\n",
        "\n",
        "#Uno de los valores será mayor que el otro, en particular uno mayor que 90 y otro menor que 90\n",
        "#entonces para tomar el menor, utilizamos np.min() y el mayor con np.max().\n",
        "\n",
        "#Si el planeta se aleja entonces 0<theta<90, y si se acerca entonces 90<theta<180 \n",
        "if rdot < 0:\n",
        "  print(\"El valor de theta es:\",np.max([theta_1,180-theta_1]), \"grados\")\n",
        "elif rdot > 0:\n",
        "  print(\"El valor de theta es:\",np.min([theta_1,180-theta_1]), \"grados\")\n",
        "else:\n",
        "  print(\"Error rdot = 0\")"
      ],
      "metadata": {
        "colab": {
          "base_uri": "https://localhost:8080/"
        },
        "id": "kcrjC90v-9-d",
        "outputId": "a7e642d3-dc0a-41fd-fc23-faed4b915245"
      },
      "execution_count": 117,
      "outputs": [
        {
          "output_type": "stream",
          "name": "stdout",
          "text": [
            "El valor de theta es: 82.27519843656013 grados\n"
          ]
        }
      ]
    },
    {
      "cell_type": "code",
      "source": [
        "#h)\n",
        "#Determinar el valor de las constantes e_1,e_2,e_3\n",
        "\n",
        "#Según la sugerencia miu = K*np.sqrt(1+m_2/m_1), pero tomar m_2=0 y con K=0.01720209908\n",
        "#es decir que miu = K\n",
        "miu = 0.01720209908\n",
        "\n",
        "e_1 = (1/miu)*(x*(ydot**2 + zdot**2) - xdot*(y*ydot+z*zdot)) - x/r\n",
        "e_2 = (1/miu)*(y*(xdot**2 + zdot**2) - ydot*(z*zdot+x*xdot)) - y/r\n",
        "e_3 = (1/miu)*(z*(xdot**2 + ydot**2) - zdot*(x*xdot+y*ydot)) - z/r\n",
        "\n",
        "print(\"Valor de e_1:\", e_1)\n",
        "print(\"Valor de e_2:\", e_2)\n",
        "print(\"Valor de e_3:\", e_3)\n",
        "\n",
        "ve = [e_1,e_2,e_3]\n",
        "print(\"Valor de e:\", ve)"
      ],
      "metadata": {
        "colab": {
          "base_uri": "https://localhost:8080/"
        },
        "id": "SUldtoOZCijL",
        "outputId": "0618f23e-e17e-482b-df26-a4dacfec17a3"
      },
      "execution_count": 118,
      "outputs": [
        {
          "output_type": "stream",
          "name": "stdout",
          "text": [
            "Valor de e_1: 0.5736058565408773\n",
            "Valor de e_2: 0.7865206743340627\n",
            "Valor de e_3: -0.1168886250561827\n",
            "Valor de e: [0.5736058565408773, 0.7865206743340627, -0.1168886250561827]\n"
          ]
        }
      ]
    },
    {
      "cell_type": "code",
      "source": [
        "#i)\n",
        "#Determinar la magnitud del vector e\n",
        "\n",
        "print(\"La magnitud del vector e es:\", magnitud_v(e_1,e_2,e_3))"
      ],
      "metadata": {
        "colab": {
          "base_uri": "https://localhost:8080/"
        },
        "id": "QEWZhHbfE5GO",
        "outputId": "311b0263-3020-449c-977e-7f60b353f851"
      },
      "execution_count": 119,
      "outputs": [
        {
          "output_type": "stream",
          "name": "stdout",
          "text": [
            "La magnitud del vector e es: 0.9804597903435036\n"
          ]
        }
      ]
    },
    {
      "cell_type": "code",
      "source": [
        "#j)\n",
        "#Utilizando que el vector e y el vector h con el producto punto es 0\n",
        "#mostrar que e_1 = (-h_2*e_2 - e_3 - h_3)/h_1\n",
        "\n",
        "e_test = (-h_2 * e_2 - e_3 * h_3)/h_1\n",
        "\n",
        "#Para comrpobar que efectivamente podemos calcular v de esta forma\n",
        "#podemos utilizar \"==\", y de igual forma imprimir ambos números\n",
        "\n",
        "print(\"E_test:\", e_test)\n",
        "print(\"E_1:\",e_1)\n",
        "\n",
        "if e_test == e_1:\n",
        "  print(\"Efectivamente podemos calcular e_1 de esta forma\")\n",
        "else:\n",
        "  print(\"Error e_test != e\")"
      ],
      "metadata": {
        "colab": {
          "base_uri": "https://localhost:8080/"
        },
        "id": "m9AFi8hVFKON",
        "outputId": "5ac748bc-339f-4731-984c-05a9706f5ccb"
      },
      "execution_count": 120,
      "outputs": [
        {
          "output_type": "stream",
          "name": "stdout",
          "text": [
            "E_test: 0.5736058565408773\n",
            "E_1: 0.5736058565408773\n",
            "Efectivamente podemos calcular e_1 de esta forma\n"
          ]
        }
      ]
    }
  ]
}
