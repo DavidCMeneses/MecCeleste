{
  "nbformat": 4,
  "nbformat_minor": 0,
  "metadata": {
    "colab": {
      "name": "Untitled8.ipynb",
      "provenance": [],
      "collapsed_sections": []
    },
    "kernelspec": {
      "name": "python3",
      "display_name": "Python 3"
    },
    "language_info": {
      "name": "python"
    }
  },
  "cells": [
    {
      "cell_type": "code",
      "execution_count": 133,
      "metadata": {
        "colab": {
          "base_uri": "https://localhost:8080/"
        },
        "id": "kyzKRwkMKtsK",
        "outputId": "4689082c-61e6-486f-d35e-4db8799279e8"
      },
      "outputs": [
        {
          "output_type": "stream",
          "name": "stdout",
          "text": [
            "T-T0 es igual a: -10.0 dias\n",
            "El periodo es: 1425.427552378876 Dia solar medio\n",
            "El valor de n es: 0.252555802923271 Grados/dia\n",
            "El valor de M es: 357.4744419707673 Grados\n",
            "El valor de E es: 357.4697068013989 grados\n",
            "El valor de r es: 2.4825506284555745 unidades astronomicas\n",
            "El valor de theta es: 357.46496719593546 grados\n",
            "Control: 2.4825506284555745 u.a.\n"
          ]
        }
      ],
      "source": [
        "import numpy as np\n",
        "import pandas as pd\n",
        "\n",
        "#Convertir de horas,minutos,segundos a días\n",
        "\n",
        "def convhmsad(a,b,c):\n",
        "  return a/24 + b/1440 + c/86400\n",
        "\n",
        "#Convertir de horas,minutos,segundos a grados\n",
        "\n",
        "def convhmsag(a,b,c,sig=1):\n",
        "  return sig*(a*15 + b*(1/4) + c*(1/240))\n",
        "\n",
        "#Convertir de grados a horas,minutos,segundos\n",
        "def convgahms(g,sig=1):\n",
        "  if sig < 0:\n",
        "    g = -g\n",
        "  h = np.floor(g*(1/15))\n",
        "  m = np.floor((g*(1/15)-h)*60)\n",
        "  s = ((g*(1/15)-h)*60 - m)*60\n",
        "  return sig*h,m,s\n",
        "\n",
        "#Convertir de grados,minutos,segundos a grados\n",
        "def convgmsag(a,b,c,sig=1):\n",
        "  return sig*(a + b*(1/60) + c*(1/3600))\n",
        "\n",
        "#Convertir de grados a grados,minutos,segundos\n",
        "def convgagms(g,sig=1):\n",
        "  if sig < 0:\n",
        "    g = -g\n",
        "  h = np.floor(g)\n",
        "  m = np.floor((g-h)*60)\n",
        "  s = ((g-h)*60 - m)*60\n",
        "  return sig*h,m,s\n",
        "\n",
        "#Convertir de radianes a grados\n",
        "def radagrad(r):\n",
        "  return r*180/np.pi\n",
        "\n",
        "#Convertir de grados a radianes\n",
        "def gradarad(g):\n",
        "  return g*np.pi/180\n",
        "\n",
        "#Asegurarse de que tangente dé el valor correcto\n",
        "def arctansafe(alpha,a,b):\n",
        "  if a*b < 0 and b<0:\n",
        "    alpha = alpha + 180\n",
        "  elif a*b < 0 and b>0:\n",
        "    alpha = alpha + 360\n",
        "  elif a+b < 0:\n",
        "    alpha = alpha + 180\n",
        "  return alpha  \n",
        "\n",
        "#Verificar que el grado esté en el rango\n",
        "def normgrad(alpha):\n",
        "  if alpha > 360:\n",
        "    alpha = alpha - 360\n",
        "  elif alpha < 0:\n",
        "    alpha = alpha + 360\n",
        "  return alpha\n",
        "\n",
        "#Valores iniciales\n",
        "\n",
        "a=2.478741\n",
        "e=0.001872\n",
        "\n",
        "#Calculo de tiempo en Julian date\n",
        "\n",
        "t0= pd.Timestamp(year=2022, month=4, day=18, hour=0,minute=0,second=0,tz='UTC')\n",
        "\n",
        "t= pd.Timestamp(year=2022, month=4, day=8, hour=0,minute=0,second=0,tz='UTC')\n",
        "\n",
        "tf =t.to_julian_date() - t0.to_julian_date()\n",
        "\n",
        "k=0.01720209908\n",
        "T = (2*np.pi*a**(3/2))/(k)\n",
        "n=(k)/(a**(3/2))\n",
        "\n",
        "M=n*tf*180/np.pi\n",
        "E=M\n",
        "\n",
        "for j in range(0,10):\n",
        "\tE=M+e*(180/np.pi)*np.sin(E*np.pi/180)\n",
        "\n",
        "r=a*(1-e*np.cos(E*np.pi/180))\n",
        "theta=2*np.arctan(np.sqrt((1+e)/(1-e))*np.tan(E*np.pi/360)) \n",
        "\n",
        "control = r=(a*(1-e**2))/(1+e*np.cos(theta*180/np.pi))\n",
        "\n",
        "\n",
        "print(\"T-T0 es igual a:\",tf, \"dias\")\n",
        "print(\"El periodo es:\",T, \"Dia solar medio\")\n",
        "print(\"El valor de n es:\",n*180/np.pi,\"Grados/dia\")\n",
        "print(\"El valor de M es:\",M+360,\"Grados\")\n",
        "print(\"El valor de E es:\",E+360,\"grados\")\n",
        "print(\"El valor de r es:\",r,\"unidades astronomicas\")\n",
        "print(\"El valor de theta es:\",(theta*180/np.pi)+360,\"grados\")\n",
        "print(\"Control:\",control,\"u.a.\")"
      ]
    },
    {
      "cell_type": "code",
      "source": [
        "#1 determinar anomalía verdadera y radio vector del asteroide 210 FU para el día 19 de Marzo de 2010\n",
        "\n",
        "n = 0.41236038\n",
        "a = 1.7876593\n",
        "e = 0.4289682 \n",
        "Mr = 333.59563 \n",
        "\n",
        "#Calculo del tiempo \n",
        "\n",
        "T0 = 2455200.5\n",
        "TF = (pd.Timestamp(year=2010, month=3, day=19, hour=0,minute=0,second=0,tz='UTC')).to_julian_date()\n",
        "Tdif = TF - T0\n",
        "\n",
        "#Anomalía media\n",
        "\n",
        "M = n*Tdif + Mr\n",
        "\n",
        "#Anomalía verdadera\n",
        "\n",
        "E = M\n",
        "\n",
        "for j in range(0,100):\n",
        "  E = M + (180/np.pi)*e*np.sin(E*np.pi/180)\n",
        "\n",
        "#Encontramos r\n",
        "\n",
        "r = a*(1-(e*np.cos(E*np.pi/180)))\n",
        "\n",
        "#Encontramos Theta\n",
        "\n",
        "Theta = 2*np.arctan(np.sqrt((1+e)/(1-e))*np.tan(E*np.pi/360))\n",
        "\n",
        "\n",
        "print(r, \"u.a.\", Theta*180/np.pi, \"grados\")"
      ],
      "metadata": {
        "colab": {
          "base_uri": "https://localhost:8080/"
        },
        "id": "PXGr0ppCLTi7",
        "outputId": "9be70328-6124-4058-f6a5-d78b01851842"
      },
      "execution_count": 134,
      "outputs": [
        {
          "output_type": "stream",
          "name": "stdout",
          "text": [
            "1.0268301487157814 u.a. 11.341980356502006 grados\n"
          ]
        }
      ]
    },
    {
      "cell_type": "code",
      "source": [
        "#2 Determinar la anomalía verdadera y el radio vector del cometa C/2010 F1 para el 4 de mayo de 2010\n",
        "\n",
        "\n",
        "q = 3.634328\n",
        "e = 1.0\n",
        "K = 0.01720209908 #cuando se trata de un cometa\n",
        "\n",
        "#Calculo del tiempo \n",
        "\n",
        "T0 = (pd.Timestamp(year=2009, month=11, day=13, hour=19,minute=30,second=43,tz='UTC')).to_julian_date()\n",
        "TF = (pd.Timestamp(year=2010, month=5, day=4, hour=0,minute=0,second=0,tz='UTC')).to_julian_date()\n",
        "Tdif = TF - T0\n",
        "\n",
        "#Calculo de C\n",
        "\n",
        "C = Tdif*(K/(np.sqrt(2*(q**3))))\n",
        "\n",
        "#Calculo de S\n",
        "\n",
        "S = (np.pi/2) - np.arctan(3*C/2)\n",
        "\n",
        "#Calculo de Phi\n",
        "\n",
        "Phi = np.arctan(np.cbrt(np.tan(S/2)))\n",
        "\n",
        "#Calculo de Theta\n",
        "\n",
        "Theta = 2*np.arctan(2/(np.tan(2*Phi)))\n",
        "\n",
        "#Calculo de z\n",
        "\n",
        "z = 1 + (9/4)*((K**2)*(Tdif**2))/(q**3)\n",
        "\n",
        "#Calculo de r\n",
        "\n",
        "r = q*(np.cbrt(z+np.sqrt((z**2)-1)) + np.cbrt(z-np.sqrt((z**2)-1)) - 1)\n",
        "\n",
        "print(Tdif, \"dias\")\n",
        "print(Theta*180/np.pi, \"grados\")\n",
        "print(r, \"u.a.\")"
      ],
      "metadata": {
        "colab": {
          "base_uri": "https://localhost:8080/"
        },
        "id": "CkU0WjegVaHF",
        "outputId": "d8e9deaa-6355-4d83-dbf5-dc2f396415a9"
      },
      "execution_count": 135,
      "outputs": [
        {
          "output_type": "stream",
          "name": "stdout",
          "text": [
            "171.1870023147203 dias\n",
            "32.57896808524392 grados\n",
            "3.944675095906053 u.a.\n"
          ]
        }
      ]
    },
    {
      "cell_type": "code",
      "source": [
        "#3 Determinar las componentes x,y,z y x_dot,y_dot,z_dot referidas al plano de la ecliptica del planeta Venus para el día 14 de enero de 2016\n",
        "\n",
        "K = 0.01720209908\n",
        "a = 0.7233263\n",
        "e = 0.0067518\n",
        "i = 3.39440 * np.pi/180\n",
        "Omega = 76.6345 * np.pi/180\n",
        "omega = (131.707 - 76.6345) * np.pi/180\n",
        "Mr = (203.25419 - 131.707)\n",
        "n = 1.602150\n",
        "\n",
        "#Calculo del tiempo\n",
        "\n",
        "T0 = 2457400.5\n",
        "TF = (pd.Timestamp(year=2016, month=1, day=14, hour=0,minute=0,second=0,tz='UTC')).to_julian_date()\n",
        "Tdif = TF - T0\n",
        "\n",
        "#Calculo de n (para verificar)\n",
        "\n",
        "n1=(K*np.sqrt(1+(1/408523)))/(a**(3/2)) * (180/np.pi)\n",
        "\n",
        "#Calculamos M\n",
        "\n",
        "M = n*Tdif + Mr\n",
        "\n",
        "#Anomalía verdadera\n",
        "\n",
        "E = M\n",
        "\n",
        "for j in range(0,20):\n",
        "  E = M + (180/np.pi)*e*np.sin(E*np.pi/180)\n",
        "\n",
        "#Encontramos r\n",
        "\n",
        "r = a*(1-(e*np.cos(E*np.pi/180)))\n",
        "#Encontramos Theta\n",
        "\n",
        "Theta = 2*np.arctan(np.sqrt((1+e)/(1-e))*np.tan(E*np.pi/360))\n",
        "\n",
        "#Encontramos x,y,z\n",
        "\n",
        "x = r*(np.cos(Omega)*np.cos(omega + Theta) - np.sin(Omega)*np.sin(omega + Theta)*np.cos(i))\n",
        "y = r*(np.sin(Omega)*np.cos(omega + Theta) + np.cos(Omega)*np.sin(omega + Theta)*np.cos(i))\n",
        "z = r*np.sin(omega+Theta)*np.sin(i)\n",
        "\n",
        "print(x,\"u.a.\",y,\"u.a.\",z,\"u.a.\")\n",
        "\n",
        "#Encontramos miu\n",
        "\n",
        "miu = (K**2)*(1+(1/408523))\n",
        "\n",
        "#Encontramos r_dot\n",
        "\n",
        "r_dot = e*np.sin(E)*(np.sqrt(miu*a)/r)\n",
        "\n",
        "#Encontramos rtheta_dot\n",
        "\n",
        "rtd = np.sqrt(miu*a*(1-(e**2)))/r\n",
        "\n",
        "#Encontramos x_dot,y_dot,z_dot\n",
        "\n",
        "x_dot = (r_dot*x/r) + rtd*(-np.cos(Omega)*np.sin(omega+Theta)-np.sin(Omega)*np.cos(i)*np.cos(omega + Theta))\n",
        "y_dot = (r_dot*y/r) + rtd*(-np.sin(Omega)*np.sin(omega+Theta)+np.cos(Omega)*np.cos(i)*np.cos(omega + Theta))\n",
        "z_dot = (r_dot*z/r) + rtd*np.sin(i)*np.cos(omega+Theta)\n",
        "\n",
        "print(x_dot,\"u.a./d\",y_dot,\"u.a./d\",z_dot,\"u.a./d\")"
      ],
      "metadata": {
        "colab": {
          "base_uri": "https://localhost:8080/"
        },
        "id": "IDPif95xhKCU",
        "outputId": "c1cfa4f4-f2b7-416a-98bf-f4c617effaf2"
      },
      "execution_count": 136,
      "outputs": [
        {
          "output_type": "stream",
          "name": "stdout",
          "text": [
            "-0.6501191997855397 u.a. -0.3121522776616554 u.a. 0.03323614735710307 u.a.\n",
            "0.008851290491274172 u.a./d -0.018213907122240542 u.a./d -0.0007605048456860937 u.a./d\n"
          ]
        }
      ]
    },
    {
      "cell_type": "code",
      "source": [
        "#4 Determinarlos valores r_dot y rtheta_dot y comparar el valor de estas con el valor de velocidad que se puede obtener con otra formula\n",
        "\n",
        "v = K*np.sqrt(1+(1/408523))*np.sqrt((2/r) - (1/a))\n",
        "\n",
        "v1 = np.sqrt(r_dot**2 + rtd**2) #la magnitud de velocidad está dada por esto\n",
        "\n",
        "print(v,\"u.a./d\",v1,\"u.a./d\")\n"
      ],
      "metadata": {
        "colab": {
          "base_uri": "https://localhost:8080/"
        },
        "id": "BsJnUHn50z17",
        "outputId": "c498af4d-9e66-4861-e5cc-192f4978c51d"
      },
      "execution_count": 137,
      "outputs": [
        {
          "output_type": "stream",
          "name": "stdout",
          "text": [
            "0.02026500254671595 u.a./d 0.020264997499107602 u.a./d\n"
          ]
        }
      ]
    },
    {
      "cell_type": "code",
      "source": [
        "#5 determinar los valores de la anomalia verdadera, excentrica y media. Así como el tiempo del paso por el perihelio, el 20 de junio de 2007\n",
        "\n",
        "a = 2.56743\n",
        "e = 0.75355\n",
        "r = 2.325364\n",
        "\n",
        "TF = (pd.Timestamp(year=2007, month=6, day=20, hour=0,minute=0,second=0,tz='UTC')).to_julian_date()\n",
        "\n",
        "#Como r_dot < 0 el planeta se está acercando al sol\n",
        "valor = (a*(1-np.power(e,2))/r) - 1\n",
        "Theta = 2*np.pi - np.arccos(valor/e)\n",
        "\n",
        "print(Theta*180/np.pi, \"grados\")\n",
        "\n",
        "#Calculamos E\n",
        "E = 2*np.arctan(np.sqrt((1-e)/(1+e))*np.tan(Theta/2))\n",
        "\n",
        "E = normgrad(E*180/np.pi)*np.pi/180\n",
        "\n",
        "print(E*180/np.pi, \"grados\")\n",
        "\n",
        "#Calculamos M\n",
        "M = E - e*np.sin(E)\n",
        "\n",
        "print(M*180/np.pi, \"grados\")\n",
        "\n",
        "#Calculamos n\n",
        "n = (K)/(a**(3/2))\n",
        "\n",
        "#Encontramos el tiempo del paso por el perihelio\n",
        "T0 = TF - (M/n)\n",
        "\n",
        "T0 = pd.to_datetime(T0, unit='D', origin='julian')\n",
        "print(T0)"
      ],
      "metadata": {
        "colab": {
          "base_uri": "https://localhost:8080/"
        },
        "id": "PLHNj6iA2M0N",
        "outputId": "69050c43-e97d-4b93-d100-fb2ce00b1cb8"
      },
      "execution_count": 150,
      "outputs": [
        {
          "output_type": "stream",
          "name": "stdout",
          "text": [
            "226.06438963653434 grados\n",
            "277.1876253249031 grados\n",
            "320.02357808130824 grados\n",
            "2003-10-23 05:57:11.544667520\n"
          ]
        }
      ]
    },
    {
      "cell_type": "code",
      "source": [
        "#6 determinar excentricidad y semieje mayor pagina 38 del primer pdf\n",
        "\n",
        "K = 0.01720209908\n",
        "\n",
        "# 1 u.a. = 149597870.691 km\n",
        "# 1 día = 86400 segundos\n",
        "\n",
        "vp= (56.76/149597870.691) * 86400\n",
        "\n",
        "va= (20.67/149597870.691) * 86400\n",
        "\n",
        "#Determinar a\n",
        "\n",
        "a = (K**2)/(vp*va)\n",
        "\n",
        "#Determinar e\n",
        "\n",
        "e = ((vp/va)-1)/((vp/va)+1)\n",
        "\n",
        "print(a, \"u.a.\",e)"
      ],
      "metadata": {
        "id": "0Oq7cYnwNswl",
        "colab": {
          "base_uri": "https://localhost:8080/"
        },
        "outputId": "a604404b-dd78-498c-a723-c77492bae80e"
      },
      "execution_count": 139,
      "outputs": [
        {
          "output_type": "stream",
          "name": "stdout",
          "text": [
            "0.7561420061577622 u.a. 0.46609841146842296\n"
          ]
        }
      ]
    },
    {
      "cell_type": "code",
      "source": [
        "#7 determinar la altura para que sea geoestacionario\n",
        "G = 6.6738480\n",
        "\n",
        "k = G*(5.9742*np.power(10,13))*(1/(1000**3))\n",
        "\n",
        "miu = 398600.4418\n",
        "\n",
        "T = convhmsad(23,56,4) * 86400\n",
        "\n",
        "n = (2*np.pi)/T\n",
        "\n",
        "a = np.cbrt(miu/(n**2))\n",
        "a2 = np.cbrt(k/(n**2))\n",
        "\n",
        "h = a - 6378.14\n",
        "h2 = a2 - 6378.14\n",
        "\n",
        "print(h,\"km\",h2,\"km\")"
      ],
      "metadata": {
        "colab": {
          "base_uri": "https://localhost:8080/"
        },
        "id": "9m2hm76dVYMS",
        "outputId": "7a88b9e8-3948-435a-cac0-c5ff13887fbb"
      },
      "execution_count": 177,
      "outputs": [
        {
          "output_type": "stream",
          "name": "stdout",
          "text": [
            "86164.0\n",
            "35786.000100123994 km 35789.828491106295 km\n"
          ]
        }
      ]
    },
    {
      "cell_type": "code",
      "source": [
        "#8 Mostrar que el valor maximo de r_dot para la elipse ocurre cuando el radio vector es igual al semialtus rectum\n",
        "\n",
        "#En general para calcular el radio vector en una elipse debemos utilizar la ecuación r=(a*(1-(e**2)))/(1+(e*np.cos(Theta)))\n",
        "#es decir que para que r sea igual al semilatus rectum, (1+(e*np.cos(Theta))) = 1, pero como es un elipse e < 1, así que \n",
        "#np.cos(Theta)=0, es decir que Theta=np.pi/2 + n*np.pi con n en los enteros. Analiticamente hemos visto que si r_dot\n",
        "#es menor que 0 entonces se está acercando al sol"
      ],
      "metadata": {
        "id": "AML45Tnl4CRz"
      },
      "execution_count": 141,
      "outputs": []
    },
    {
      "cell_type": "code",
      "source": [
        "#9 Encontrar los valores de a y e para la orbita de la nave, y el tiempo que gasta la nave en cubrir la distancia Tierra-Jupiter\n",
        "\n",
        "K = 0.01720209908\n",
        "\n",
        "Rt = 1 #Esta es la misma distancia al pericentro de la orbita de la nave q\n",
        "Rj = 5.2 #esta es la misma distancia al apocentro de la orbita de la nave Q\n",
        "\n",
        "q = Rt\n",
        "Q = Rj\n",
        "\n",
        "#calculamos a\n",
        "a = (Q+q)/2\n",
        "\n",
        "#calculamos e\n",
        "e = (Q-q)/(2*a)\n",
        "\n",
        "print(a,\"u.a.\",e)\n",
        "\n",
        "#calculamos T \n",
        "\n",
        "T = (2*np.pi*(a**(3/2)))/(K)\n",
        "\n",
        "#Note que lo que se gasta la nave en cubrir la distancia Tierra-Jupiter, resulta ser la mitad del periodo\n",
        "\n",
        "print(T/2, \"dias\")\n"
      ],
      "metadata": {
        "id": "4MWJNm9X8l-k",
        "colab": {
          "base_uri": "https://localhost:8080/"
        },
        "outputId": "ada73a49-3bdc-4fbf-c056-d8ec71a1f814"
      },
      "execution_count": 174,
      "outputs": [
        {
          "output_type": "stream",
          "name": "stdout",
          "text": [
            "3.1 u.a. 0.6774193548387097\n",
            "996.8067464917508 dias\n"
          ]
        }
      ]
    },
    {
      "cell_type": "code",
      "source": [
        "#10 Determinar posición geocéntrica ecuatorial del planeta Marte el día 6 de diciembre de 2015 \n",
        "\n",
        "#Marte\n",
        "epsilon = 23.43927944\n",
        "i = 1.84838 * np.pi/180\n",
        "Omega = 49.5089 * np.pi/180\n",
        "omega = (336.1245-49.5089) * np.pi/180\n",
        "a = 1.5237848\n",
        "n = 0.5239863*np.pi/180\n",
        "e = 0.0933687\n",
        "Mr = normgrad(162.96067 - 336.1245)*np.pi/180\n",
        "\n",
        "\n",
        "#Calcular dieferencia de tiempo\n",
        "T0 = 2457360.5\n",
        "TF = (pd.Timestamp(year=2015, month=12, day=6, hour=0,minute=0,second=0,tz='UTC')).to_julian_date()\n",
        "Tdif = TF-T0\n",
        "\n",
        "#Calculamos M\n",
        "\n",
        "M = n*Tdif + Mr\n",
        "\n",
        "#Anomalía verdadera\n",
        "\n",
        "E = M*180/np.pi\n",
        "\n",
        "for j in range(0,100):\n",
        "  E = (M*180/np.pi) + (180/np.pi)*e*np.sin(E*np.pi/180)\n",
        "\n",
        "\n",
        "#Encontramos r\n",
        "\n",
        "r = a*(1-(e*np.cos(E*np.pi/180)))\n",
        "\n",
        "#Encontramos Theta\n",
        "\n",
        "Theta = 2*np.arctan(np.sqrt((1+e)/(1-e))*np.tan(E*np.pi/360))\n",
        "\n",
        "#Encontramos x,y,z\n",
        "\n",
        "x = r*(np.cos(Omega)*np.cos(omega + Theta) - np.sin(Omega)*np.sin(omega + Theta)*np.cos(i))\n",
        "y = r*(np.sin(Omega)*np.cos(omega + Theta) + np.cos(Omega)*np.sin(omega + Theta)*np.cos(i))\n",
        "z = r*np.sin(omega+Theta)*np.sin(i)\n",
        "\n",
        "print(x,\"u.a.\",y,\"u.a.\",z,\"u.a.\")\n",
        "\n",
        "#De eclipticas a ecuatoriales\n",
        "\n",
        "xpri = x\n",
        "ypri = y * np.cos(gradarad(epsilon)) - z * np.sin(gradarad(epsilon))\n",
        "zpri = y * np.sin(gradarad(epsilon)) + z * np.cos(gradarad(epsilon))\n",
        "\n",
        "#De rectangulares a esfericas\n",
        "\n",
        "lambd = np.arctan(ypri/xpri)\n",
        "r = np.sqrt(xpri**2 + ypri**2 + zpri**2)\n",
        "beta = np.arcsin(zpri/r)\n",
        "\n",
        "lambd = arctansafe(radagrad(lambd),ypri,xpri)\n",
        "\n",
        "#Tierra\n",
        "i = 0.00207 * np.pi/180\n",
        "Omega = 172.5 * np.pi/180\n",
        "omega = normgrad(102.9644-172.5) * np.pi/180\n",
        "a = 0.9999971\n",
        "n = 0.9856147*np.pi/180\n",
        "e = 0.0167005\n",
        "Mr = normgrad(72.27412- 102.9644)*np.pi/180\n",
        "\n",
        "#Calcular dieferencia de tiempo\n",
        "T0 = 2457360.5\n",
        "TF = (pd.Timestamp(year=2015, month=12, day=6, hour=0,minute=0,second=0,tz='UTC')).to_julian_date()\n",
        "Tdif = TF-T0\n",
        "\n",
        "#Calculamos M\n",
        "\n",
        "M = n*Tdif + Mr\n",
        "\n",
        "#Anomalía verdadera\n",
        "\n",
        "E = M*180/np.pi\n",
        "\n",
        "for j in range(0,100):\n",
        "  E = (M*180/np.pi) + (180/np.pi)*e*np.sin(E*np.pi/180)\n",
        "\n",
        "\n",
        "#Encontramos r\n",
        "\n",
        "r = a*(1-(e*np.cos(E*np.pi/180)))\n",
        "\n",
        "#Encontramos Theta\n",
        "\n",
        "Theta = 2*np.arctan(np.sqrt((1+e)/(1-e))*np.tan(E*np.pi/360))\n",
        "\n",
        "#Encontramos x,y,z\n",
        "\n",
        "x = r*(np.cos(Omega)*np.cos(omega + Theta) - np.sin(Omega)*np.sin(omega + Theta)*np.cos(i))\n",
        "y = r*(np.sin(Omega)*np.cos(omega + Theta) + np.cos(Omega)*np.sin(omega + Theta)*np.cos(i))\n",
        "z = r*np.sin(omega+Theta)*np.sin(i)\n",
        "\n",
        "print(x,\"u.a.\",y,\"u.a.\",z,\"u.a.\")\n",
        "\n",
        "#De eclipticas a ecuatoriales\n",
        "\n",
        "xprit = x\n",
        "yprit = y * np.cos(gradarad(epsilon)) - z * np.sin(gradarad(epsilon))\n",
        "zprit = y * np.sin(gradarad(epsilon)) + z * np.cos(gradarad(epsilon))\n",
        "\n",
        "\n",
        "xpri = xpri - xprit\n",
        "ypri = ypri - yprit\n",
        "zpri = zpri - zprit\n",
        "\n",
        "#De rectangulares a esfericas\n",
        "\n",
        "lambd = np.arctan(ypri/xpri)\n",
        "r = np.sqrt(xpri**2 + ypri**2 + zpri**2)\n",
        "beta = np.arcsin(zpri/r)\n",
        "\n",
        "lambd = arctansafe(radagrad(lambd),ypri,xpri)\n",
        "\n",
        "print(convgahms(lambd), r, convgagms(radagrad(beta),np.sign(beta)))\n"
      ],
      "metadata": {
        "colab": {
          "base_uri": "https://localhost:8080/"
        },
        "id": "VgM0REdzYajg",
        "outputId": "0d92a02a-90dc-4ef7-ea40-71d92938f3b1"
      },
      "execution_count": 178,
      "outputs": [
        {
          "output_type": "stream",
          "name": "stdout",
          "text": [
            "-1.588952957765829 u.a. 0.4947655668309985 u.a. 0.04936494834128977 u.a.\n",
            "0.28302698040972696 u.a. 0.9438973097755189 u.a. -3.514434537714017e-05 u.a.\n",
            "(12.0, 51.0, 56.79145606354879) 1.9257384507273028 (-3.0, 58.0, 12.39868468057395)\n"
          ]
        }
      ]
    }
  ]
}